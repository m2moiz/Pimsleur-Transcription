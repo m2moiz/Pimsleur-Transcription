{
 "cells": [
  {
   "cell_type": "code",
   "execution_count": null,
   "metadata": {},
   "outputs": [],
   "source": [
    "from openai import OpenAI\n",
    "from keys import OPENAI_API_KEY, MY_OPENAI_API_KEY\n",
    "\n"
   ]
  },
  {
   "cell_type": "code",
   "execution_count": null,
   "metadata": {},
   "outputs": [],
   "source": [
    "client = OpenAI(api_key = MY_OPENAI_API_KEY)\n",
    "\n",
    "audio_file= open(\"9781508261131_French1_U01_Lesson.mp3\", \"rb\")\n",
    "transcription = client.audio.transcriptions.create(\n",
    "  model=\"whisper-1\", \n",
    "  file=audio_file,\n",
    "  response_format=\"verbose_json\",\n",
    "  timestamp_granularities=[\"word\", \"segment\"]\n",
    ")\n",
    "print(transcription.text)"
   ]
  },
  {
   "cell_type": "code",
   "execution_count": null,
   "metadata": {},
   "outputs": [],
   "source": [
    "class Transcription:\n",
    "    def __init__(self, text, timestamp):\n",
    "        self.text = text\n",
    "        self.timestamp = timestamp\n",
    "\n",
    "    def to_dict(self):\n",
    "        return {\n",
    "            'text': self.text,\n",
    "            'timestamp': self.timestamp\n",
    "        }"
   ]
  },
  {
   "cell_type": "code",
   "execution_count": null,
   "metadata": {},
   "outputs": [],
   "source": [
    "import json\n",
    "\n",
    "# Open a file in write mode\n",
    "with open('transcription.json', 'w') as json_file:\n",
    "    # Write the JSON object to the file\n",
    "    json.dump(transcription.to_dict(), json_file, indent=4)"
   ]
  },
  {
   "cell_type": "code",
   "execution_count": 1,
   "metadata": {},
   "outputs": [
    {
     "name": "stdout",
     "output_type": "stream",
     "text": [
      "Folder path: c:\\Users\\Moiz_\\Documents\\Code\\Pimsleur-Audio-Transcriber-PDF-with-Timestamps-\\my_new_folder\n"
     ]
    }
   ],
   "source": [
    "import os\n",
    "\n",
    "def create_folder_if_not_exists(folder_name):\n",
    "    # Get the current working directory\n",
    "    current_directory = os.getcwd()\n",
    "    \n",
    "    # Construct the full path of the folder\n",
    "    folder_path = os.path.join(current_directory, folder_name)\n",
    "    \n",
    "    # Check if the folder exists\n",
    "    if not os.path.exists(folder_path):\n",
    "        # Create the folder\n",
    "        os.makedirs(folder_path)\n",
    "    \n",
    "    return folder_path\n",
    "\n",
    "# Example usage\n",
    "folder_name = 'my_new_folder'\n",
    "folder_path = create_folder_if_not_exists(folder_name)\n",
    "print(f\"Folder path: {folder_path}\")"
   ]
  }
 ],
 "metadata": {
  "kernelspec": {
   "display_name": "Python 3",
   "language": "python",
   "name": "python3"
  },
  "language_info": {
   "codemirror_mode": {
    "name": "ipython",
    "version": 3
   },
   "file_extension": ".py",
   "mimetype": "text/x-python",
   "name": "python",
   "nbconvert_exporter": "python",
   "pygments_lexer": "ipython3",
   "version": "3.11.9"
  }
 },
 "nbformat": 4,
 "nbformat_minor": 2
}
